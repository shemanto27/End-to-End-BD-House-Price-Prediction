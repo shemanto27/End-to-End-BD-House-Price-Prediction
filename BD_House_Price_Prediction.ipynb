{
  "nbformat": 4,
  "nbformat_minor": 0,
  "metadata": {
    "colab": {
      "provenance": [],
      "collapsed_sections": [
        "xfcJtXC2dW0c"
      ],
      "mount_file_id": "1K-Gb2OVWoC_THD8PwdqzCGk4wVK4k1P5",
      "authorship_tag": "ABX9TyM+Qk2lO/AYUhSrbAuNk/vb",
      "include_colab_link": true
    },
    "kernelspec": {
      "name": "python3",
      "display_name": "Python 3"
    },
    "language_info": {
      "name": "python"
    }
  },
  "cells": [
    {
      "cell_type": "markdown",
      "metadata": {
        "id": "view-in-github",
        "colab_type": "text"
      },
      "source": [
        "<a href=\"https://colab.research.google.com/github/shemanto27/End-to-End-BD-House-Price-Prediction/blob/main/BD_House_Price_Prediction.ipynb\" target=\"_parent\"><img src=\"https://colab.research.google.com/assets/colab-badge.svg\" alt=\"Open In Colab\"/></a>"
      ]
    },
    {
      "cell_type": "markdown",
      "source": [
        "# Step-0: Setup and Project Details 📜\n"
      ],
      "metadata": {
        "id": "xfcJtXC2dW0c"
      }
    },
    {
      "cell_type": "markdown",
      "source": [
        "## Projects Details\n",
        "- Title: Bangladesh House Price Prediction\n",
        "- Problem Statement:\n",
        "\n",
        "  The real estate market in Bangladesh is rapidly growing, yet pricing decisions often lack accurate data-driven insights. This project aims to predict house prices using machine learning techniques, helping stakeholders make informed decisions and promoting transparency in the housing market.\n",
        "  \n",
        "- Objectives:\n",
        "  - Predict house prices based on features like location, size, number of rooms, etc.\n",
        "  - Build a user-friendly interface or API for users to estimate house prices\n",
        "\n",
        "- Target Audience:\n",
        "  - Homebuyers\n",
        "  - Real estate agents\n",
        "  - Property developers\n",
        "  - Government and urban planners\n",
        "\n",
        "- Data Source:\n",
        "  Data was collected from Kaggle, here is the [link](https://www.kaggle.com/datasets/durjoychandrapaul/house-price-bangladesh)\n",
        "-About the Dataset:\n",
        "\n",
        "  This dataset contains property listings from various cities across Bangladesh, specifically including Dhaka, Chattogram, Cumilla, Narayanganj City, and Gazipur, with prices listed in Bangladeshi Taka (৳). The dataset provides valuable insights into various features of the properties, including the number of bedrooms, bathrooms, floor number, floor area in square feet, and their respective prices. The data has been collected from a real estate website, offering a comprehensive view of the housing market across these key cities in Bangladesh.\n",
        "\n",
        "- Feature Description\n",
        "  - Title: The title or description of the property listing.\n",
        "\n",
        "  - Bedrooms: The number of bedrooms in the property.\n",
        "\n",
        "  - Bathrooms: The number of bathrooms in the property.\n",
        "\n",
        "  - Floor_no: The floor number on which the property is located.\n",
        "\n",
        "  - Occupancy_status: Indicates whether the property is vacant or occupied.\n",
        "\n",
        "  - Floor_area: The total floor area of the property in square feet.\n",
        "\n",
        "  - City: The city where the property is located. This dataset includes listings from Dhaka, Chattogram, Cumilla, Narayanganj City, and Gazipur.\n",
        "\n",
        "  - Price_in_taka: The listing price of the property in Bangladeshi Taka (৳).\n",
        "\n",
        "  - Location: The specific location or address within the city."
      ],
      "metadata": {
        "id": "hSuaTMOneLbO"
      }
    },
    {
      "cell_type": "markdown",
      "source": [
        "## Plan:\n",
        "- It is a **Regression Problem**\n",
        "- We will test Regression Algorithms: LinearRegression, SVR, DecisionTreeRegressor, RandomForestRegressor, KNeighborsRegressor, GradientBoostingRegress\n",
        "xgboost\n",
        "- Evaluation Matrics: mean_squared_error, mean_absolute_error, r2_score"
      ],
      "metadata": {
        "id": "1rRhx7gZuhFe"
      }
    },
    {
      "cell_type": "markdown",
      "source": [
        "## Project setup"
      ],
      "metadata": {
        "id": "H7EcC9ZGi1kG"
      }
    },
    {
      "cell_type": "code",
      "source": [
        "import pandas as pd\n",
        "import numpy as np\n",
        "import matplotlib.pyplot as plt\n",
        "import seaborn as sns\n",
        "\n",
        "# Set the Seaborn style\n",
        "sns.set_style(\"darkgrid\")  # You can also use \"darkgrid\", \"white\", \"ticks\"\n",
        "sns.set_palette(\"viridis\")  # You can also try \"rocket\", \"mako\", \"flare\", \"magma\", \"viridis\"\n"
      ],
      "metadata": {
        "id": "lEZh5llZjCRX"
      },
      "execution_count": null,
      "outputs": []
    },
    {
      "cell_type": "code",
      "source": [
        "# # Install MLflow and Pyngrok\n",
        "# !pip install mlflow -q\n",
        "# !pip install pyngrok -q"
      ],
      "metadata": {
        "id": "A1QIMWwK4EtJ"
      },
      "execution_count": null,
      "outputs": []
    },
    {
      "cell_type": "code",
      "source": [
        "# import mlflow\n",
        "# import subprocess\n",
        "# from pyngrok import ngrok, conf\n",
        "# import getpass"
      ],
      "metadata": {
        "id": "FGVCT1pxHNx3"
      },
      "execution_count": null,
      "outputs": []
    },
    {
      "cell_type": "code",
      "source": [
        "# # Define MLflow backend store URI with SQLite\n",
        "# MLFLOW_TRACKING_URI = \"sqlite:///mlflow.db\"\n",
        "# # Start the MLflow  using subprocess\n",
        "# subprocess.Popen([\"mlflow\", \"ui\", \"--backend-store-uri\", MLFLOW_TRACKING_URI])"
      ],
      "metadata": {
        "id": "I8UfYUlCHNQP"
      },
      "execution_count": null,
      "outputs": []
    },
    {
      "cell_type": "code",
      "source": [
        "# # Set the tracking URI\n",
        "# mlflow.set_tracking_uri(MLFLOW_TRACKING_URI)\n",
        "# # Set or create an experiment. mlflow will create an experiment if it doesn't exist\n",
        "# mlflow.set_experiment(\"BD House Price Pridiction\")"
      ],
      "metadata": {
        "id": "f0Zzwix7HNBb"
      },
      "execution_count": null,
      "outputs": []
    },
    {
      "cell_type": "markdown",
      "source": [
        "2pYrZiuK7OfKJj0aUqvOAwOCzQL_889Gi4aGbgY5GDJNgKYbP"
      ],
      "metadata": {
        "id": "jfosiqMCke4T"
      }
    },
    {
      "cell_type": "code",
      "source": [
        "# # Configure ngrok and expose the MLflow UI\n",
        "# print(\"Enter your authtoken, which can be copied from https://dashboard.ngrok.com/auth\")\n",
        "# conf.get_default().auth_token = getpass.getpass()\n",
        "# # Expose the MLflow UI on port 5000\n",
        "# port=5000\n",
        "# public_url = ngrok.connect(port).public_url\n",
        "# print(f' * ngrok tunnel \\\"{public_url}\\\" -> \\\"http://127.0.0.1:{port}\\\"')"
      ],
      "metadata": {
        "id": "3cRAbDuEH4Mv"
      },
      "execution_count": null,
      "outputs": []
    },
    {
      "cell_type": "markdown",
      "source": [
        "https://ed5e-34-85-169-36.ngrok-free.app"
      ],
      "metadata": {
        "id": "-oV0VlAXkO_7"
      }
    },
    {
      "cell_type": "code",
      "source": [
        "df = pd.read_csv('/content/drive/MyDrive/Colab Notebooks/BD House Price Prediction/house_price_bd.csv')"
      ],
      "metadata": {
        "id": "bPh319ZZIuxx"
      },
      "execution_count": null,
      "outputs": []
    },
    {
      "cell_type": "markdown",
      "source": [
        "#  Step-1: Data Preprocessing 🧹\n",
        "- imputation(Handle missing values),Remove duplicates and outliers\n",
        "- Data Transformation- encoding(Cat-->Num),  Standardization or normalization\n",
        "- Data Splitting"
      ],
      "metadata": {
        "id": "Ztr5PFbejXgQ"
      }
    },
    {
      "cell_type": "code",
      "source": [
        "df.sample(10)"
      ],
      "metadata": {
        "colab": {
          "base_uri": "https://localhost:8080/",
          "height": 990
        },
        "id": "60Yx-OwUIzpg",
        "outputId": "f1aa7030-d673-4465-d032-62cfa503ec55"
      },
      "execution_count": null,
      "outputs": [
        {
          "output_type": "execute_result",
          "data": {
            "text/plain": [
              "                                                  Title  Bedrooms  Bathrooms  \\\n",
              "3472  5 Katha Plot In Bproperty Village, Narayanganj...       NaN        NaN   \n",
              "2772      Apartment Of 1500 Sq Ft For Sale In Hamjarbag       2.0        2.0   \n",
              "3840  Built With Modern Amenities, Check This 1080 S...       3.0        2.0   \n",
              "2340  Great News! In The Suitable Location Of Sholok...       3.0        2.0   \n",
              "2440  Ready 1550 Sq Ft Flat Is Now For Sale In Doubl...       3.0        3.0   \n",
              "2077  1400 Sq Ft Flat Is Up For Sale At 7 No. West S...       3.0        3.0   \n",
              "1653  Look At This Nice 2200 Sq Ft Flat Is Up For Sa...       3.0        3.0   \n",
              "1729  A Nice And Comfortable 1750 Sq Ft Flat Is Up F...       3.0        3.0   \n",
              "571   Picture Yourself, Residing In This Well Constr...       4.0        5.0   \n",
              "390   In the location of Mirpur, very close to Medic...       2.0        2.0   \n",
              "\n",
              "     Floor_no Occupancy_status  Floor_area              City Price_in_taka  \\\n",
              "3472      NaN           vacant      3600.0  narayanganj-city    ৳7,625,000   \n",
              "2772        3           vacant      1500.0        chattogram    ৳6,750,000   \n",
              "3840        5           vacant      1080.0           gazipur    ৳4,320,000   \n",
              "2340        7           vacant      1000.0        chattogram    ৳5,500,000   \n",
              "2440        2           vacant      1550.0        chattogram    ৳9,335,000   \n",
              "2077        1           vacant      1400.0        chattogram    ৳8,500,000   \n",
              "1653        8           vacant      2200.0        chattogram   ৳12,000,000   \n",
              "1729        3           vacant      1750.0        chattogram    ৳7,875,000   \n",
              "571         2           vacant      2258.0             dhaka   ৳28,000,000   \n",
              "390         5           vacant       800.0             dhaka    ৳3,700,000   \n",
              "\n",
              "                                            Location  \n",
              "3472                            Rupganj, Narayanganj  \n",
              "2772          Hamjarbag, 7 No. West Sholoshohor Ward  \n",
              "3840                Joydebpur, Gazipur Sadar Upazila  \n",
              "2340                          Badurtala, Sholokbahar  \n",
              "2440                   South Agrabad, Double Mooring  \n",
              "2077  Mohammad Pur Road, 7 No. West Sholoshohor Ward  \n",
              "1653     Lake Valley R/A, 9 No. North Pahartali Ward  \n",
              "1729          Hamjarbag, 7 No. West Sholoshohor Ward  \n",
              "571                                Sector 13, Uttara  \n",
              "390                                Section 6, Mirpur  "
            ],
            "text/html": [
              "\n",
              "  <div id=\"df-96c3e69d-cc3d-4454-a7e0-7c192b5c9e51\" class=\"colab-df-container\">\n",
              "    <div>\n",
              "<style scoped>\n",
              "    .dataframe tbody tr th:only-of-type {\n",
              "        vertical-align: middle;\n",
              "    }\n",
              "\n",
              "    .dataframe tbody tr th {\n",
              "        vertical-align: top;\n",
              "    }\n",
              "\n",
              "    .dataframe thead th {\n",
              "        text-align: right;\n",
              "    }\n",
              "</style>\n",
              "<table border=\"1\" class=\"dataframe\">\n",
              "  <thead>\n",
              "    <tr style=\"text-align: right;\">\n",
              "      <th></th>\n",
              "      <th>Title</th>\n",
              "      <th>Bedrooms</th>\n",
              "      <th>Bathrooms</th>\n",
              "      <th>Floor_no</th>\n",
              "      <th>Occupancy_status</th>\n",
              "      <th>Floor_area</th>\n",
              "      <th>City</th>\n",
              "      <th>Price_in_taka</th>\n",
              "      <th>Location</th>\n",
              "    </tr>\n",
              "  </thead>\n",
              "  <tbody>\n",
              "    <tr>\n",
              "      <th>3472</th>\n",
              "      <td>5 Katha Plot In Bproperty Village, Narayanganj...</td>\n",
              "      <td>NaN</td>\n",
              "      <td>NaN</td>\n",
              "      <td>NaN</td>\n",
              "      <td>vacant</td>\n",
              "      <td>3600.0</td>\n",
              "      <td>narayanganj-city</td>\n",
              "      <td>৳7,625,000</td>\n",
              "      <td>Rupganj, Narayanganj</td>\n",
              "    </tr>\n",
              "    <tr>\n",
              "      <th>2772</th>\n",
              "      <td>Apartment Of 1500 Sq Ft For Sale In Hamjarbag</td>\n",
              "      <td>2.0</td>\n",
              "      <td>2.0</td>\n",
              "      <td>3</td>\n",
              "      <td>vacant</td>\n",
              "      <td>1500.0</td>\n",
              "      <td>chattogram</td>\n",
              "      <td>৳6,750,000</td>\n",
              "      <td>Hamjarbag, 7 No. West Sholoshohor Ward</td>\n",
              "    </tr>\n",
              "    <tr>\n",
              "      <th>3840</th>\n",
              "      <td>Built With Modern Amenities, Check This 1080 S...</td>\n",
              "      <td>3.0</td>\n",
              "      <td>2.0</td>\n",
              "      <td>5</td>\n",
              "      <td>vacant</td>\n",
              "      <td>1080.0</td>\n",
              "      <td>gazipur</td>\n",
              "      <td>৳4,320,000</td>\n",
              "      <td>Joydebpur, Gazipur Sadar Upazila</td>\n",
              "    </tr>\n",
              "    <tr>\n",
              "      <th>2340</th>\n",
              "      <td>Great News! In The Suitable Location Of Sholok...</td>\n",
              "      <td>3.0</td>\n",
              "      <td>2.0</td>\n",
              "      <td>7</td>\n",
              "      <td>vacant</td>\n",
              "      <td>1000.0</td>\n",
              "      <td>chattogram</td>\n",
              "      <td>৳5,500,000</td>\n",
              "      <td>Badurtala, Sholokbahar</td>\n",
              "    </tr>\n",
              "    <tr>\n",
              "      <th>2440</th>\n",
              "      <td>Ready 1550 Sq Ft Flat Is Now For Sale In Doubl...</td>\n",
              "      <td>3.0</td>\n",
              "      <td>3.0</td>\n",
              "      <td>2</td>\n",
              "      <td>vacant</td>\n",
              "      <td>1550.0</td>\n",
              "      <td>chattogram</td>\n",
              "      <td>৳9,335,000</td>\n",
              "      <td>South Agrabad, Double Mooring</td>\n",
              "    </tr>\n",
              "    <tr>\n",
              "      <th>2077</th>\n",
              "      <td>1400 Sq Ft Flat Is Up For Sale At 7 No. West S...</td>\n",
              "      <td>3.0</td>\n",
              "      <td>3.0</td>\n",
              "      <td>1</td>\n",
              "      <td>vacant</td>\n",
              "      <td>1400.0</td>\n",
              "      <td>chattogram</td>\n",
              "      <td>৳8,500,000</td>\n",
              "      <td>Mohammad Pur Road, 7 No. West Sholoshohor Ward</td>\n",
              "    </tr>\n",
              "    <tr>\n",
              "      <th>1653</th>\n",
              "      <td>Look At This Nice 2200 Sq Ft Flat Is Up For Sa...</td>\n",
              "      <td>3.0</td>\n",
              "      <td>3.0</td>\n",
              "      <td>8</td>\n",
              "      <td>vacant</td>\n",
              "      <td>2200.0</td>\n",
              "      <td>chattogram</td>\n",
              "      <td>৳12,000,000</td>\n",
              "      <td>Lake Valley R/A, 9 No. North Pahartali Ward</td>\n",
              "    </tr>\n",
              "    <tr>\n",
              "      <th>1729</th>\n",
              "      <td>A Nice And Comfortable 1750 Sq Ft Flat Is Up F...</td>\n",
              "      <td>3.0</td>\n",
              "      <td>3.0</td>\n",
              "      <td>3</td>\n",
              "      <td>vacant</td>\n",
              "      <td>1750.0</td>\n",
              "      <td>chattogram</td>\n",
              "      <td>৳7,875,000</td>\n",
              "      <td>Hamjarbag, 7 No. West Sholoshohor Ward</td>\n",
              "    </tr>\n",
              "    <tr>\n",
              "      <th>571</th>\n",
              "      <td>Picture Yourself, Residing In This Well Constr...</td>\n",
              "      <td>4.0</td>\n",
              "      <td>5.0</td>\n",
              "      <td>2</td>\n",
              "      <td>vacant</td>\n",
              "      <td>2258.0</td>\n",
              "      <td>dhaka</td>\n",
              "      <td>৳28,000,000</td>\n",
              "      <td>Sector 13, Uttara</td>\n",
              "    </tr>\n",
              "    <tr>\n",
              "      <th>390</th>\n",
              "      <td>In the location of Mirpur, very close to Medic...</td>\n",
              "      <td>2.0</td>\n",
              "      <td>2.0</td>\n",
              "      <td>5</td>\n",
              "      <td>vacant</td>\n",
              "      <td>800.0</td>\n",
              "      <td>dhaka</td>\n",
              "      <td>৳3,700,000</td>\n",
              "      <td>Section 6, Mirpur</td>\n",
              "    </tr>\n",
              "  </tbody>\n",
              "</table>\n",
              "</div>\n",
              "    <div class=\"colab-df-buttons\">\n",
              "\n",
              "  <div class=\"colab-df-container\">\n",
              "    <button class=\"colab-df-convert\" onclick=\"convertToInteractive('df-96c3e69d-cc3d-4454-a7e0-7c192b5c9e51')\"\n",
              "            title=\"Convert this dataframe to an interactive table.\"\n",
              "            style=\"display:none;\">\n",
              "\n",
              "  <svg xmlns=\"http://www.w3.org/2000/svg\" height=\"24px\" viewBox=\"0 -960 960 960\">\n",
              "    <path d=\"M120-120v-720h720v720H120Zm60-500h600v-160H180v160Zm220 220h160v-160H400v160Zm0 220h160v-160H400v160ZM180-400h160v-160H180v160Zm440 0h160v-160H620v160ZM180-180h160v-160H180v160Zm440 0h160v-160H620v160Z\"/>\n",
              "  </svg>\n",
              "    </button>\n",
              "\n",
              "  <style>\n",
              "    .colab-df-container {\n",
              "      display:flex;\n",
              "      gap: 12px;\n",
              "    }\n",
              "\n",
              "    .colab-df-convert {\n",
              "      background-color: #E8F0FE;\n",
              "      border: none;\n",
              "      border-radius: 50%;\n",
              "      cursor: pointer;\n",
              "      display: none;\n",
              "      fill: #1967D2;\n",
              "      height: 32px;\n",
              "      padding: 0 0 0 0;\n",
              "      width: 32px;\n",
              "    }\n",
              "\n",
              "    .colab-df-convert:hover {\n",
              "      background-color: #E2EBFA;\n",
              "      box-shadow: 0px 1px 2px rgba(60, 64, 67, 0.3), 0px 1px 3px 1px rgba(60, 64, 67, 0.15);\n",
              "      fill: #174EA6;\n",
              "    }\n",
              "\n",
              "    .colab-df-buttons div {\n",
              "      margin-bottom: 4px;\n",
              "    }\n",
              "\n",
              "    [theme=dark] .colab-df-convert {\n",
              "      background-color: #3B4455;\n",
              "      fill: #D2E3FC;\n",
              "    }\n",
              "\n",
              "    [theme=dark] .colab-df-convert:hover {\n",
              "      background-color: #434B5C;\n",
              "      box-shadow: 0px 1px 3px 1px rgba(0, 0, 0, 0.15);\n",
              "      filter: drop-shadow(0px 1px 2px rgba(0, 0, 0, 0.3));\n",
              "      fill: #FFFFFF;\n",
              "    }\n",
              "  </style>\n",
              "\n",
              "    <script>\n",
              "      const buttonEl =\n",
              "        document.querySelector('#df-96c3e69d-cc3d-4454-a7e0-7c192b5c9e51 button.colab-df-convert');\n",
              "      buttonEl.style.display =\n",
              "        google.colab.kernel.accessAllowed ? 'block' : 'none';\n",
              "\n",
              "      async function convertToInteractive(key) {\n",
              "        const element = document.querySelector('#df-96c3e69d-cc3d-4454-a7e0-7c192b5c9e51');\n",
              "        const dataTable =\n",
              "          await google.colab.kernel.invokeFunction('convertToInteractive',\n",
              "                                                    [key], {});\n",
              "        if (!dataTable) return;\n",
              "\n",
              "        const docLinkHtml = 'Like what you see? Visit the ' +\n",
              "          '<a target=\"_blank\" href=https://colab.research.google.com/notebooks/data_table.ipynb>data table notebook</a>'\n",
              "          + ' to learn more about interactive tables.';\n",
              "        element.innerHTML = '';\n",
              "        dataTable['output_type'] = 'display_data';\n",
              "        await google.colab.output.renderOutput(dataTable, element);\n",
              "        const docLink = document.createElement('div');\n",
              "        docLink.innerHTML = docLinkHtml;\n",
              "        element.appendChild(docLink);\n",
              "      }\n",
              "    </script>\n",
              "  </div>\n",
              "\n",
              "\n",
              "<div id=\"df-c8a7c2d4-e9bd-4856-ab5d-37a3a0929797\">\n",
              "  <button class=\"colab-df-quickchart\" onclick=\"quickchart('df-c8a7c2d4-e9bd-4856-ab5d-37a3a0929797')\"\n",
              "            title=\"Suggest charts\"\n",
              "            style=\"display:none;\">\n",
              "\n",
              "<svg xmlns=\"http://www.w3.org/2000/svg\" height=\"24px\"viewBox=\"0 0 24 24\"\n",
              "     width=\"24px\">\n",
              "    <g>\n",
              "        <path d=\"M19 3H5c-1.1 0-2 .9-2 2v14c0 1.1.9 2 2 2h14c1.1 0 2-.9 2-2V5c0-1.1-.9-2-2-2zM9 17H7v-7h2v7zm4 0h-2V7h2v10zm4 0h-2v-4h2v4z\"/>\n",
              "    </g>\n",
              "</svg>\n",
              "  </button>\n",
              "\n",
              "<style>\n",
              "  .colab-df-quickchart {\n",
              "      --bg-color: #E8F0FE;\n",
              "      --fill-color: #1967D2;\n",
              "      --hover-bg-color: #E2EBFA;\n",
              "      --hover-fill-color: #174EA6;\n",
              "      --disabled-fill-color: #AAA;\n",
              "      --disabled-bg-color: #DDD;\n",
              "  }\n",
              "\n",
              "  [theme=dark] .colab-df-quickchart {\n",
              "      --bg-color: #3B4455;\n",
              "      --fill-color: #D2E3FC;\n",
              "      --hover-bg-color: #434B5C;\n",
              "      --hover-fill-color: #FFFFFF;\n",
              "      --disabled-bg-color: #3B4455;\n",
              "      --disabled-fill-color: #666;\n",
              "  }\n",
              "\n",
              "  .colab-df-quickchart {\n",
              "    background-color: var(--bg-color);\n",
              "    border: none;\n",
              "    border-radius: 50%;\n",
              "    cursor: pointer;\n",
              "    display: none;\n",
              "    fill: var(--fill-color);\n",
              "    height: 32px;\n",
              "    padding: 0;\n",
              "    width: 32px;\n",
              "  }\n",
              "\n",
              "  .colab-df-quickchart:hover {\n",
              "    background-color: var(--hover-bg-color);\n",
              "    box-shadow: 0 1px 2px rgba(60, 64, 67, 0.3), 0 1px 3px 1px rgba(60, 64, 67, 0.15);\n",
              "    fill: var(--button-hover-fill-color);\n",
              "  }\n",
              "\n",
              "  .colab-df-quickchart-complete:disabled,\n",
              "  .colab-df-quickchart-complete:disabled:hover {\n",
              "    background-color: var(--disabled-bg-color);\n",
              "    fill: var(--disabled-fill-color);\n",
              "    box-shadow: none;\n",
              "  }\n",
              "\n",
              "  .colab-df-spinner {\n",
              "    border: 2px solid var(--fill-color);\n",
              "    border-color: transparent;\n",
              "    border-bottom-color: var(--fill-color);\n",
              "    animation:\n",
              "      spin 1s steps(1) infinite;\n",
              "  }\n",
              "\n",
              "  @keyframes spin {\n",
              "    0% {\n",
              "      border-color: transparent;\n",
              "      border-bottom-color: var(--fill-color);\n",
              "      border-left-color: var(--fill-color);\n",
              "    }\n",
              "    20% {\n",
              "      border-color: transparent;\n",
              "      border-left-color: var(--fill-color);\n",
              "      border-top-color: var(--fill-color);\n",
              "    }\n",
              "    30% {\n",
              "      border-color: transparent;\n",
              "      border-left-color: var(--fill-color);\n",
              "      border-top-color: var(--fill-color);\n",
              "      border-right-color: var(--fill-color);\n",
              "    }\n",
              "    40% {\n",
              "      border-color: transparent;\n",
              "      border-right-color: var(--fill-color);\n",
              "      border-top-color: var(--fill-color);\n",
              "    }\n",
              "    60% {\n",
              "      border-color: transparent;\n",
              "      border-right-color: var(--fill-color);\n",
              "    }\n",
              "    80% {\n",
              "      border-color: transparent;\n",
              "      border-right-color: var(--fill-color);\n",
              "      border-bottom-color: var(--fill-color);\n",
              "    }\n",
              "    90% {\n",
              "      border-color: transparent;\n",
              "      border-bottom-color: var(--fill-color);\n",
              "    }\n",
              "  }\n",
              "</style>\n",
              "\n",
              "  <script>\n",
              "    async function quickchart(key) {\n",
              "      const quickchartButtonEl =\n",
              "        document.querySelector('#' + key + ' button');\n",
              "      quickchartButtonEl.disabled = true;  // To prevent multiple clicks.\n",
              "      quickchartButtonEl.classList.add('colab-df-spinner');\n",
              "      try {\n",
              "        const charts = await google.colab.kernel.invokeFunction(\n",
              "            'suggestCharts', [key], {});\n",
              "      } catch (error) {\n",
              "        console.error('Error during call to suggestCharts:', error);\n",
              "      }\n",
              "      quickchartButtonEl.classList.remove('colab-df-spinner');\n",
              "      quickchartButtonEl.classList.add('colab-df-quickchart-complete');\n",
              "    }\n",
              "    (() => {\n",
              "      let quickchartButtonEl =\n",
              "        document.querySelector('#df-c8a7c2d4-e9bd-4856-ab5d-37a3a0929797 button');\n",
              "      quickchartButtonEl.style.display =\n",
              "        google.colab.kernel.accessAllowed ? 'block' : 'none';\n",
              "    })();\n",
              "  </script>\n",
              "</div>\n",
              "\n",
              "    </div>\n",
              "  </div>\n"
            ],
            "application/vnd.google.colaboratory.intrinsic+json": {
              "type": "dataframe",
              "summary": "{\n  \"name\": \"df\",\n  \"rows\": 10,\n  \"fields\": [\n    {\n      \"column\": \"Title\",\n      \"properties\": {\n        \"dtype\": \"string\",\n        \"num_unique_values\": 10,\n        \"samples\": [\n          \"Picture Yourself, Residing In This Well Constructed And Planned 2258 Sq Ft Apartment In Uttara Sector 13 For Sale, Near Milestone College\",\n          \"Apartment Of 1500 Sq Ft For Sale In Hamjarbag\",\n          \"1400 Sq Ft Flat Is Up For Sale At 7 No. West Sholoshohor Ward\"\n        ],\n        \"semantic_type\": \"\",\n        \"description\": \"\"\n      }\n    },\n    {\n      \"column\": \"Bedrooms\",\n      \"properties\": {\n        \"dtype\": \"number\",\n        \"std\": 0.6009252125773316,\n        \"min\": 2.0,\n        \"max\": 4.0,\n        \"num_unique_values\": 3,\n        \"samples\": [\n          2.0,\n          3.0,\n          4.0\n        ],\n        \"semantic_type\": \"\",\n        \"description\": \"\"\n      }\n    },\n    {\n      \"column\": \"Bathrooms\",\n      \"properties\": {\n        \"dtype\": \"number\",\n        \"std\": 0.97182531580755,\n        \"min\": 2.0,\n        \"max\": 5.0,\n        \"num_unique_values\": 3,\n        \"samples\": [\n          2.0,\n          3.0,\n          5.0\n        ],\n        \"semantic_type\": \"\",\n        \"description\": \"\"\n      }\n    },\n    {\n      \"column\": \"Floor_no\",\n      \"properties\": {\n        \"dtype\": \"string\",\n        \"num_unique_values\": 6,\n        \"samples\": [\n          \"3\",\n          \"5\",\n          \"8\"\n        ],\n        \"semantic_type\": \"\",\n        \"description\": \"\"\n      }\n    },\n    {\n      \"column\": \"Occupancy_status\",\n      \"properties\": {\n        \"dtype\": \"category\",\n        \"num_unique_values\": 1,\n        \"samples\": [\n          \"vacant\"\n        ],\n        \"semantic_type\": \"\",\n        \"description\": \"\"\n      }\n    },\n    {\n      \"column\": \"Floor_area\",\n      \"properties\": {\n        \"dtype\": \"number\",\n        \"std\": 817.0991779867771,\n        \"min\": 800.0,\n        \"max\": 3600.0,\n        \"num_unique_values\": 10,\n        \"samples\": [\n          2258.0\n        ],\n        \"semantic_type\": \"\",\n        \"description\": \"\"\n      }\n    },\n    {\n      \"column\": \"City\",\n      \"properties\": {\n        \"dtype\": \"category\",\n        \"num_unique_values\": 4,\n        \"samples\": [\n          \"chattogram\"\n        ],\n        \"semantic_type\": \"\",\n        \"description\": \"\"\n      }\n    },\n    {\n      \"column\": \"Price_in_taka\",\n      \"properties\": {\n        \"dtype\": \"string\",\n        \"num_unique_values\": 10,\n        \"samples\": [\n          \"\\u09f328,000,000\"\n        ],\n        \"semantic_type\": \"\",\n        \"description\": \"\"\n      }\n    },\n    {\n      \"column\": \"Location\",\n      \"properties\": {\n        \"dtype\": \"string\",\n        \"num_unique_values\": 9,\n        \"samples\": [\n          \"Sector 13, Uttara\"\n        ],\n        \"semantic_type\": \"\",\n        \"description\": \"\"\n      }\n    }\n  ]\n}"
            }
          },
          "metadata": {},
          "execution_count": 284
        }
      ]
    },
    {
      "cell_type": "code",
      "source": [
        "df.info()"
      ],
      "metadata": {
        "colab": {
          "base_uri": "https://localhost:8080/"
        },
        "id": "UGm8re_cI_Cw",
        "outputId": "9bdceed5-2403-4575-dd29-fc5405d49019"
      },
      "execution_count": null,
      "outputs": [
        {
          "output_type": "stream",
          "name": "stdout",
          "text": [
            "<class 'pandas.core.frame.DataFrame'>\n",
            "RangeIndex: 3865 entries, 0 to 3864\n",
            "Data columns (total 9 columns):\n",
            " #   Column            Non-Null Count  Dtype  \n",
            "---  ------            --------------  -----  \n",
            " 0   Title             3865 non-null   object \n",
            " 1   Bedrooms          2864 non-null   float64\n",
            " 2   Bathrooms         2864 non-null   float64\n",
            " 3   Floor_no          3181 non-null   object \n",
            " 4   Occupancy_status  3766 non-null   object \n",
            " 5   Floor_area        3766 non-null   float64\n",
            " 6   City              3865 non-null   object \n",
            " 7   Price_in_taka     3865 non-null   object \n",
            " 8   Location          3859 non-null   object \n",
            "dtypes: float64(3), object(6)\n",
            "memory usage: 271.9+ KB\n"
          ]
        }
      ]
    },
    {
      "cell_type": "code",
      "source": [
        "df['City'].unique()"
      ],
      "metadata": {
        "colab": {
          "base_uri": "https://localhost:8080/"
        },
        "id": "FTUPdGL9JLCB",
        "outputId": "ec70a627-1dba-4ba6-d952-cff0b209413e"
      },
      "execution_count": null,
      "outputs": [
        {
          "output_type": "execute_result",
          "data": {
            "text/plain": [
              "array(['dhaka', 'chattogram', 'cumilla', 'narayanganj-city', 'gazipur'],\n",
              "      dtype=object)"
            ]
          },
          "metadata": {},
          "execution_count": 286
        }
      ]
    },
    {
      "cell_type": "code",
      "source": [
        "df['Occupancy_status'].unique()"
      ],
      "metadata": {
        "colab": {
          "base_uri": "https://localhost:8080/"
        },
        "id": "a62UpCgg3IBP",
        "outputId": "aa4f6051-39e4-4707-b260-47ef0ed56446"
      },
      "execution_count": null,
      "outputs": [
        {
          "output_type": "execute_result",
          "data": {
            "text/plain": [
              "array(['vacant', 'occupied', nan], dtype=object)"
            ]
          },
          "metadata": {},
          "execution_count": 287
        }
      ]
    },
    {
      "cell_type": "code",
      "source": [
        "df.isnull().sum()"
      ],
      "metadata": {
        "colab": {
          "base_uri": "https://localhost:8080/",
          "height": 366
        },
        "id": "4De8eP3u2KC4",
        "outputId": "6a21808d-e2c8-4edb-f775-1f1d3a1e4fed"
      },
      "execution_count": null,
      "outputs": [
        {
          "output_type": "execute_result",
          "data": {
            "text/plain": [
              "Title                  0\n",
              "Bedrooms            1001\n",
              "Bathrooms           1001\n",
              "Floor_no             684\n",
              "Occupancy_status      99\n",
              "Floor_area            99\n",
              "City                   0\n",
              "Price_in_taka          0\n",
              "Location               6\n",
              "dtype: int64"
            ],
            "text/html": [
              "<div>\n",
              "<style scoped>\n",
              "    .dataframe tbody tr th:only-of-type {\n",
              "        vertical-align: middle;\n",
              "    }\n",
              "\n",
              "    .dataframe tbody tr th {\n",
              "        vertical-align: top;\n",
              "    }\n",
              "\n",
              "    .dataframe thead th {\n",
              "        text-align: right;\n",
              "    }\n",
              "</style>\n",
              "<table border=\"1\" class=\"dataframe\">\n",
              "  <thead>\n",
              "    <tr style=\"text-align: right;\">\n",
              "      <th></th>\n",
              "      <th>0</th>\n",
              "    </tr>\n",
              "  </thead>\n",
              "  <tbody>\n",
              "    <tr>\n",
              "      <th>Title</th>\n",
              "      <td>0</td>\n",
              "    </tr>\n",
              "    <tr>\n",
              "      <th>Bedrooms</th>\n",
              "      <td>1001</td>\n",
              "    </tr>\n",
              "    <tr>\n",
              "      <th>Bathrooms</th>\n",
              "      <td>1001</td>\n",
              "    </tr>\n",
              "    <tr>\n",
              "      <th>Floor_no</th>\n",
              "      <td>684</td>\n",
              "    </tr>\n",
              "    <tr>\n",
              "      <th>Occupancy_status</th>\n",
              "      <td>99</td>\n",
              "    </tr>\n",
              "    <tr>\n",
              "      <th>Floor_area</th>\n",
              "      <td>99</td>\n",
              "    </tr>\n",
              "    <tr>\n",
              "      <th>City</th>\n",
              "      <td>0</td>\n",
              "    </tr>\n",
              "    <tr>\n",
              "      <th>Price_in_taka</th>\n",
              "      <td>0</td>\n",
              "    </tr>\n",
              "    <tr>\n",
              "      <th>Location</th>\n",
              "      <td>6</td>\n",
              "    </tr>\n",
              "  </tbody>\n",
              "</table>\n",
              "</div><br><label><b>dtype:</b> int64</label>"
            ]
          },
          "metadata": {},
          "execution_count": 288
        }
      ]
    },
    {
      "cell_type": "code",
      "source": [
        "df.duplicated().sum()"
      ],
      "metadata": {
        "colab": {
          "base_uri": "https://localhost:8080/"
        },
        "id": "e0HGMirG2chw",
        "outputId": "d4c7a9ac-dcc8-4ade-85c8-7438433fdaab"
      },
      "execution_count": null,
      "outputs": [
        {
          "output_type": "execute_result",
          "data": {
            "text/plain": [
              "934"
            ]
          },
          "metadata": {},
          "execution_count": 289
        }
      ]
    },
    {
      "cell_type": "code",
      "source": [
        "df.drop_duplicates(inplace=True)\n",
        "df.duplicated().sum()"
      ],
      "metadata": {
        "colab": {
          "base_uri": "https://localhost:8080/"
        },
        "id": "NpcOgO2B4e1m",
        "outputId": "76c3b2ff-bd60-468c-9eb0-600ffdedb561"
      },
      "execution_count": null,
      "outputs": [
        {
          "output_type": "execute_result",
          "data": {
            "text/plain": [
              "0"
            ]
          },
          "metadata": {},
          "execution_count": 290
        }
      ]
    },
    {
      "cell_type": "code",
      "source": [
        "df.drop(['Title','Occupancy_status'], axis=1, inplace=True)"
      ],
      "metadata": {
        "id": "sbFd8FJ54slH"
      },
      "execution_count": null,
      "outputs": []
    },
    {
      "cell_type": "code",
      "source": [
        "df.head()"
      ],
      "metadata": {
        "colab": {
          "base_uri": "https://localhost:8080/",
          "height": 347
        },
        "id": "-C_wQGhBuNDT",
        "outputId": "c7e17387-a5cb-4062-f283-d1b442f228d0"
      },
      "execution_count": null,
      "outputs": [
        {
          "output_type": "execute_result",
          "data": {
            "text/plain": [
              "   Bedrooms  Bathrooms Floor_no  Floor_area   City Price_in_taka  \\\n",
              "0       3.0        4.0        3      1960.0  dhaka   ৳39,000,000   \n",
              "1       3.0        3.0        1      1705.0  dhaka   ৳16,900,000   \n",
              "2       3.0        3.0        6      1370.0  dhaka   ৳12,500,000   \n",
              "3       3.0        3.0        4      2125.0  dhaka   ৳20,000,000   \n",
              "4       3.0        3.0        4      2687.0  dhaka   ৳47,500,000   \n",
              "\n",
              "                      Location  \n",
              "0           Gulshan 1, Gulshan  \n",
              "1  Lake Circus Road, Kalabagan  \n",
              "2         Shukrabad, Dhanmondi  \n",
              "3     Block L, Bashundhara R-A  \n",
              "4           Road No 25, Banani  "
            ],
            "text/html": [
              "\n",
              "  <div id=\"df-cf350380-f5e6-4460-8cef-544bff89fb84\" class=\"colab-df-container\">\n",
              "    <div>\n",
              "<style scoped>\n",
              "    .dataframe tbody tr th:only-of-type {\n",
              "        vertical-align: middle;\n",
              "    }\n",
              "\n",
              "    .dataframe tbody tr th {\n",
              "        vertical-align: top;\n",
              "    }\n",
              "\n",
              "    .dataframe thead th {\n",
              "        text-align: right;\n",
              "    }\n",
              "</style>\n",
              "<table border=\"1\" class=\"dataframe\">\n",
              "  <thead>\n",
              "    <tr style=\"text-align: right;\">\n",
              "      <th></th>\n",
              "      <th>Bedrooms</th>\n",
              "      <th>Bathrooms</th>\n",
              "      <th>Floor_no</th>\n",
              "      <th>Floor_area</th>\n",
              "      <th>City</th>\n",
              "      <th>Price_in_taka</th>\n",
              "      <th>Location</th>\n",
              "    </tr>\n",
              "  </thead>\n",
              "  <tbody>\n",
              "    <tr>\n",
              "      <th>0</th>\n",
              "      <td>3.0</td>\n",
              "      <td>4.0</td>\n",
              "      <td>3</td>\n",
              "      <td>1960.0</td>\n",
              "      <td>dhaka</td>\n",
              "      <td>৳39,000,000</td>\n",
              "      <td>Gulshan 1, Gulshan</td>\n",
              "    </tr>\n",
              "    <tr>\n",
              "      <th>1</th>\n",
              "      <td>3.0</td>\n",
              "      <td>3.0</td>\n",
              "      <td>1</td>\n",
              "      <td>1705.0</td>\n",
              "      <td>dhaka</td>\n",
              "      <td>৳16,900,000</td>\n",
              "      <td>Lake Circus Road, Kalabagan</td>\n",
              "    </tr>\n",
              "    <tr>\n",
              "      <th>2</th>\n",
              "      <td>3.0</td>\n",
              "      <td>3.0</td>\n",
              "      <td>6</td>\n",
              "      <td>1370.0</td>\n",
              "      <td>dhaka</td>\n",
              "      <td>৳12,500,000</td>\n",
              "      <td>Shukrabad, Dhanmondi</td>\n",
              "    </tr>\n",
              "    <tr>\n",
              "      <th>3</th>\n",
              "      <td>3.0</td>\n",
              "      <td>3.0</td>\n",
              "      <td>4</td>\n",
              "      <td>2125.0</td>\n",
              "      <td>dhaka</td>\n",
              "      <td>৳20,000,000</td>\n",
              "      <td>Block L, Bashundhara R-A</td>\n",
              "    </tr>\n",
              "    <tr>\n",
              "      <th>4</th>\n",
              "      <td>3.0</td>\n",
              "      <td>3.0</td>\n",
              "      <td>4</td>\n",
              "      <td>2687.0</td>\n",
              "      <td>dhaka</td>\n",
              "      <td>৳47,500,000</td>\n",
              "      <td>Road No 25, Banani</td>\n",
              "    </tr>\n",
              "  </tbody>\n",
              "</table>\n",
              "</div>\n",
              "    <div class=\"colab-df-buttons\">\n",
              "\n",
              "  <div class=\"colab-df-container\">\n",
              "    <button class=\"colab-df-convert\" onclick=\"convertToInteractive('df-cf350380-f5e6-4460-8cef-544bff89fb84')\"\n",
              "            title=\"Convert this dataframe to an interactive table.\"\n",
              "            style=\"display:none;\">\n",
              "\n",
              "  <svg xmlns=\"http://www.w3.org/2000/svg\" height=\"24px\" viewBox=\"0 -960 960 960\">\n",
              "    <path d=\"M120-120v-720h720v720H120Zm60-500h600v-160H180v160Zm220 220h160v-160H400v160Zm0 220h160v-160H400v160ZM180-400h160v-160H180v160Zm440 0h160v-160H620v160ZM180-180h160v-160H180v160Zm440 0h160v-160H620v160Z\"/>\n",
              "  </svg>\n",
              "    </button>\n",
              "\n",
              "  <style>\n",
              "    .colab-df-container {\n",
              "      display:flex;\n",
              "      gap: 12px;\n",
              "    }\n",
              "\n",
              "    .colab-df-convert {\n",
              "      background-color: #E8F0FE;\n",
              "      border: none;\n",
              "      border-radius: 50%;\n",
              "      cursor: pointer;\n",
              "      display: none;\n",
              "      fill: #1967D2;\n",
              "      height: 32px;\n",
              "      padding: 0 0 0 0;\n",
              "      width: 32px;\n",
              "    }\n",
              "\n",
              "    .colab-df-convert:hover {\n",
              "      background-color: #E2EBFA;\n",
              "      box-shadow: 0px 1px 2px rgba(60, 64, 67, 0.3), 0px 1px 3px 1px rgba(60, 64, 67, 0.15);\n",
              "      fill: #174EA6;\n",
              "    }\n",
              "\n",
              "    .colab-df-buttons div {\n",
              "      margin-bottom: 4px;\n",
              "    }\n",
              "\n",
              "    [theme=dark] .colab-df-convert {\n",
              "      background-color: #3B4455;\n",
              "      fill: #D2E3FC;\n",
              "    }\n",
              "\n",
              "    [theme=dark] .colab-df-convert:hover {\n",
              "      background-color: #434B5C;\n",
              "      box-shadow: 0px 1px 3px 1px rgba(0, 0, 0, 0.15);\n",
              "      filter: drop-shadow(0px 1px 2px rgba(0, 0, 0, 0.3));\n",
              "      fill: #FFFFFF;\n",
              "    }\n",
              "  </style>\n",
              "\n",
              "    <script>\n",
              "      const buttonEl =\n",
              "        document.querySelector('#df-cf350380-f5e6-4460-8cef-544bff89fb84 button.colab-df-convert');\n",
              "      buttonEl.style.display =\n",
              "        google.colab.kernel.accessAllowed ? 'block' : 'none';\n",
              "\n",
              "      async function convertToInteractive(key) {\n",
              "        const element = document.querySelector('#df-cf350380-f5e6-4460-8cef-544bff89fb84');\n",
              "        const dataTable =\n",
              "          await google.colab.kernel.invokeFunction('convertToInteractive',\n",
              "                                                    [key], {});\n",
              "        if (!dataTable) return;\n",
              "\n",
              "        const docLinkHtml = 'Like what you see? Visit the ' +\n",
              "          '<a target=\"_blank\" href=https://colab.research.google.com/notebooks/data_table.ipynb>data table notebook</a>'\n",
              "          + ' to learn more about interactive tables.';\n",
              "        element.innerHTML = '';\n",
              "        dataTable['output_type'] = 'display_data';\n",
              "        await google.colab.output.renderOutput(dataTable, element);\n",
              "        const docLink = document.createElement('div');\n",
              "        docLink.innerHTML = docLinkHtml;\n",
              "        element.appendChild(docLink);\n",
              "      }\n",
              "    </script>\n",
              "  </div>\n",
              "\n",
              "\n",
              "<div id=\"df-841bdbc5-84d6-4148-97b7-a0c806b880ee\">\n",
              "  <button class=\"colab-df-quickchart\" onclick=\"quickchart('df-841bdbc5-84d6-4148-97b7-a0c806b880ee')\"\n",
              "            title=\"Suggest charts\"\n",
              "            style=\"display:none;\">\n",
              "\n",
              "<svg xmlns=\"http://www.w3.org/2000/svg\" height=\"24px\"viewBox=\"0 0 24 24\"\n",
              "     width=\"24px\">\n",
              "    <g>\n",
              "        <path d=\"M19 3H5c-1.1 0-2 .9-2 2v14c0 1.1.9 2 2 2h14c1.1 0 2-.9 2-2V5c0-1.1-.9-2-2-2zM9 17H7v-7h2v7zm4 0h-2V7h2v10zm4 0h-2v-4h2v4z\"/>\n",
              "    </g>\n",
              "</svg>\n",
              "  </button>\n",
              "\n",
              "<style>\n",
              "  .colab-df-quickchart {\n",
              "      --bg-color: #E8F0FE;\n",
              "      --fill-color: #1967D2;\n",
              "      --hover-bg-color: #E2EBFA;\n",
              "      --hover-fill-color: #174EA6;\n",
              "      --disabled-fill-color: #AAA;\n",
              "      --disabled-bg-color: #DDD;\n",
              "  }\n",
              "\n",
              "  [theme=dark] .colab-df-quickchart {\n",
              "      --bg-color: #3B4455;\n",
              "      --fill-color: #D2E3FC;\n",
              "      --hover-bg-color: #434B5C;\n",
              "      --hover-fill-color: #FFFFFF;\n",
              "      --disabled-bg-color: #3B4455;\n",
              "      --disabled-fill-color: #666;\n",
              "  }\n",
              "\n",
              "  .colab-df-quickchart {\n",
              "    background-color: var(--bg-color);\n",
              "    border: none;\n",
              "    border-radius: 50%;\n",
              "    cursor: pointer;\n",
              "    display: none;\n",
              "    fill: var(--fill-color);\n",
              "    height: 32px;\n",
              "    padding: 0;\n",
              "    width: 32px;\n",
              "  }\n",
              "\n",
              "  .colab-df-quickchart:hover {\n",
              "    background-color: var(--hover-bg-color);\n",
              "    box-shadow: 0 1px 2px rgba(60, 64, 67, 0.3), 0 1px 3px 1px rgba(60, 64, 67, 0.15);\n",
              "    fill: var(--button-hover-fill-color);\n",
              "  }\n",
              "\n",
              "  .colab-df-quickchart-complete:disabled,\n",
              "  .colab-df-quickchart-complete:disabled:hover {\n",
              "    background-color: var(--disabled-bg-color);\n",
              "    fill: var(--disabled-fill-color);\n",
              "    box-shadow: none;\n",
              "  }\n",
              "\n",
              "  .colab-df-spinner {\n",
              "    border: 2px solid var(--fill-color);\n",
              "    border-color: transparent;\n",
              "    border-bottom-color: var(--fill-color);\n",
              "    animation:\n",
              "      spin 1s steps(1) infinite;\n",
              "  }\n",
              "\n",
              "  @keyframes spin {\n",
              "    0% {\n",
              "      border-color: transparent;\n",
              "      border-bottom-color: var(--fill-color);\n",
              "      border-left-color: var(--fill-color);\n",
              "    }\n",
              "    20% {\n",
              "      border-color: transparent;\n",
              "      border-left-color: var(--fill-color);\n",
              "      border-top-color: var(--fill-color);\n",
              "    }\n",
              "    30% {\n",
              "      border-color: transparent;\n",
              "      border-left-color: var(--fill-color);\n",
              "      border-top-color: var(--fill-color);\n",
              "      border-right-color: var(--fill-color);\n",
              "    }\n",
              "    40% {\n",
              "      border-color: transparent;\n",
              "      border-right-color: var(--fill-color);\n",
              "      border-top-color: var(--fill-color);\n",
              "    }\n",
              "    60% {\n",
              "      border-color: transparent;\n",
              "      border-right-color: var(--fill-color);\n",
              "    }\n",
              "    80% {\n",
              "      border-color: transparent;\n",
              "      border-right-color: var(--fill-color);\n",
              "      border-bottom-color: var(--fill-color);\n",
              "    }\n",
              "    90% {\n",
              "      border-color: transparent;\n",
              "      border-bottom-color: var(--fill-color);\n",
              "    }\n",
              "  }\n",
              "</style>\n",
              "\n",
              "  <script>\n",
              "    async function quickchart(key) {\n",
              "      const quickchartButtonEl =\n",
              "        document.querySelector('#' + key + ' button');\n",
              "      quickchartButtonEl.disabled = true;  // To prevent multiple clicks.\n",
              "      quickchartButtonEl.classList.add('colab-df-spinner');\n",
              "      try {\n",
              "        const charts = await google.colab.kernel.invokeFunction(\n",
              "            'suggestCharts', [key], {});\n",
              "      } catch (error) {\n",
              "        console.error('Error during call to suggestCharts:', error);\n",
              "      }\n",
              "      quickchartButtonEl.classList.remove('colab-df-spinner');\n",
              "      quickchartButtonEl.classList.add('colab-df-quickchart-complete');\n",
              "    }\n",
              "    (() => {\n",
              "      let quickchartButtonEl =\n",
              "        document.querySelector('#df-841bdbc5-84d6-4148-97b7-a0c806b880ee button');\n",
              "      quickchartButtonEl.style.display =\n",
              "        google.colab.kernel.accessAllowed ? 'block' : 'none';\n",
              "    })();\n",
              "  </script>\n",
              "</div>\n",
              "\n",
              "    </div>\n",
              "  </div>\n"
            ],
            "application/vnd.google.colaboratory.intrinsic+json": {
              "type": "dataframe",
              "variable_name": "df",
              "summary": "{\n  \"name\": \"df\",\n  \"rows\": 2931,\n  \"fields\": [\n    {\n      \"column\": \"Bedrooms\",\n      \"properties\": {\n        \"dtype\": \"number\",\n        \"std\": 2.083459026585532,\n        \"min\": 1.0,\n        \"max\": 50.0,\n        \"num_unique_values\": 20,\n        \"samples\": [\n          3.0,\n          20.0,\n          21.0\n        ],\n        \"semantic_type\": \"\",\n        \"description\": \"\"\n      }\n    },\n    {\n      \"column\": \"Bathrooms\",\n      \"properties\": {\n        \"dtype\": \"number\",\n        \"std\": 0.9606211219563593,\n        \"min\": 1.0,\n        \"max\": 10.0,\n        \"num_unique_values\": 8,\n        \"samples\": [\n          3.0,\n          1.0,\n          4.0\n        ],\n        \"semantic_type\": \"\",\n        \"description\": \"\"\n      }\n    },\n    {\n      \"column\": \"Floor_no\",\n      \"properties\": {\n        \"dtype\": \"category\",\n        \"num_unique_values\": 25,\n        \"samples\": [\n          \"9\",\n          \"11\",\n          \"3\"\n        ],\n        \"semantic_type\": \"\",\n        \"description\": \"\"\n      }\n    },\n    {\n      \"column\": \"Floor_area\",\n      \"properties\": {\n        \"dtype\": \"number\",\n        \"std\": 6031.997321359787,\n        \"min\": 84.0,\n        \"max\": 195840.0,\n        \"num_unique_values\": 668,\n        \"samples\": [\n          4686.0,\n          2945.0,\n          13300.0\n        ],\n        \"semantic_type\": \"\",\n        \"description\": \"\"\n      }\n    },\n    {\n      \"column\": \"City\",\n      \"properties\": {\n        \"dtype\": \"category\",\n        \"num_unique_values\": 5,\n        \"samples\": [\n          \"chattogram\",\n          \"gazipur\",\n          \"cumilla\"\n        ],\n        \"semantic_type\": \"\",\n        \"description\": \"\"\n      }\n    },\n    {\n      \"column\": \"Price_in_taka\",\n      \"properties\": {\n        \"dtype\": \"category\",\n        \"num_unique_values\": 702,\n        \"samples\": [\n          \"\\u09f310,419,000\",\n          \"\\u09f39,630,000\",\n          \"\\u09f314,500,000\"\n        ],\n        \"semantic_type\": \"\",\n        \"description\": \"\"\n      }\n    },\n    {\n      \"column\": \"Location\",\n      \"properties\": {\n        \"dtype\": \"category\",\n        \"num_unique_values\": 505,\n        \"samples\": [\n          \"Nayatola, Maghbazar\",\n          \"Road No 2, Banani\",\n          \"Joydebpur, Gazipur Sadar Upazila\"\n        ],\n        \"semantic_type\": \"\",\n        \"description\": \"\"\n      }\n    }\n  ]\n}"
            }
          },
          "metadata": {},
          "execution_count": 292
        }
      ]
    },
    {
      "cell_type": "code",
      "source": [
        "df.info()"
      ],
      "metadata": {
        "colab": {
          "base_uri": "https://localhost:8080/"
        },
        "id": "r7niHG58uMPO",
        "outputId": "e4ccc14d-20f7-4f28-e66a-71f2ee70cc2f"
      },
      "execution_count": null,
      "outputs": [
        {
          "output_type": "stream",
          "name": "stdout",
          "text": [
            "<class 'pandas.core.frame.DataFrame'>\n",
            "Index: 2931 entries, 0 to 3862\n",
            "Data columns (total 7 columns):\n",
            " #   Column         Non-Null Count  Dtype  \n",
            "---  ------         --------------  -----  \n",
            " 0   Bedrooms       2100 non-null   float64\n",
            " 1   Bathrooms      2100 non-null   float64\n",
            " 2   Floor_no       2356 non-null   object \n",
            " 3   Floor_area     2842 non-null   float64\n",
            " 4   City           2931 non-null   object \n",
            " 5   Price_in_taka  2931 non-null   object \n",
            " 6   Location       2925 non-null   object \n",
            "dtypes: float64(3), object(4)\n",
            "memory usage: 183.2+ KB\n"
          ]
        }
      ]
    },
    {
      "cell_type": "code",
      "source": [
        "df.isnull().sum()"
      ],
      "metadata": {
        "colab": {
          "base_uri": "https://localhost:8080/",
          "height": 303
        },
        "id": "MmOgLNoIzrUl",
        "outputId": "58256e12-d200-4976-f300-6a0fbf6e6cf2"
      },
      "execution_count": null,
      "outputs": [
        {
          "output_type": "execute_result",
          "data": {
            "text/plain": [
              "Bedrooms         831\n",
              "Bathrooms        831\n",
              "Floor_no         575\n",
              "Floor_area        89\n",
              "City               0\n",
              "Price_in_taka      0\n",
              "Location           6\n",
              "dtype: int64"
            ],
            "text/html": [
              "<div>\n",
              "<style scoped>\n",
              "    .dataframe tbody tr th:only-of-type {\n",
              "        vertical-align: middle;\n",
              "    }\n",
              "\n",
              "    .dataframe tbody tr th {\n",
              "        vertical-align: top;\n",
              "    }\n",
              "\n",
              "    .dataframe thead th {\n",
              "        text-align: right;\n",
              "    }\n",
              "</style>\n",
              "<table border=\"1\" class=\"dataframe\">\n",
              "  <thead>\n",
              "    <tr style=\"text-align: right;\">\n",
              "      <th></th>\n",
              "      <th>0</th>\n",
              "    </tr>\n",
              "  </thead>\n",
              "  <tbody>\n",
              "    <tr>\n",
              "      <th>Bedrooms</th>\n",
              "      <td>831</td>\n",
              "    </tr>\n",
              "    <tr>\n",
              "      <th>Bathrooms</th>\n",
              "      <td>831</td>\n",
              "    </tr>\n",
              "    <tr>\n",
              "      <th>Floor_no</th>\n",
              "      <td>575</td>\n",
              "    </tr>\n",
              "    <tr>\n",
              "      <th>Floor_area</th>\n",
              "      <td>89</td>\n",
              "    </tr>\n",
              "    <tr>\n",
              "      <th>City</th>\n",
              "      <td>0</td>\n",
              "    </tr>\n",
              "    <tr>\n",
              "      <th>Price_in_taka</th>\n",
              "      <td>0</td>\n",
              "    </tr>\n",
              "    <tr>\n",
              "      <th>Location</th>\n",
              "      <td>6</td>\n",
              "    </tr>\n",
              "  </tbody>\n",
              "</table>\n",
              "</div><br><label><b>dtype:</b> int64</label>"
            ]
          },
          "metadata": {},
          "execution_count": 294
        }
      ]
    },
    {
      "cell_type": "code",
      "source": [
        "df.isnull().mean() * 100"
      ],
      "metadata": {
        "colab": {
          "base_uri": "https://localhost:8080/",
          "height": 303
        },
        "id": "aRMieAzSzqxo",
        "outputId": "db858ddd-8949-4706-8fa2-da9ef34f2e88"
      },
      "execution_count": null,
      "outputs": [
        {
          "output_type": "execute_result",
          "data": {
            "text/plain": [
              "Bedrooms         28.352098\n",
              "Bathrooms        28.352098\n",
              "Floor_no         19.617878\n",
              "Floor_area        3.036506\n",
              "City              0.000000\n",
              "Price_in_taka     0.000000\n",
              "Location          0.204708\n",
              "dtype: float64"
            ],
            "text/html": [
              "<div>\n",
              "<style scoped>\n",
              "    .dataframe tbody tr th:only-of-type {\n",
              "        vertical-align: middle;\n",
              "    }\n",
              "\n",
              "    .dataframe tbody tr th {\n",
              "        vertical-align: top;\n",
              "    }\n",
              "\n",
              "    .dataframe thead th {\n",
              "        text-align: right;\n",
              "    }\n",
              "</style>\n",
              "<table border=\"1\" class=\"dataframe\">\n",
              "  <thead>\n",
              "    <tr style=\"text-align: right;\">\n",
              "      <th></th>\n",
              "      <th>0</th>\n",
              "    </tr>\n",
              "  </thead>\n",
              "  <tbody>\n",
              "    <tr>\n",
              "      <th>Bedrooms</th>\n",
              "      <td>28.352098</td>\n",
              "    </tr>\n",
              "    <tr>\n",
              "      <th>Bathrooms</th>\n",
              "      <td>28.352098</td>\n",
              "    </tr>\n",
              "    <tr>\n",
              "      <th>Floor_no</th>\n",
              "      <td>19.617878</td>\n",
              "    </tr>\n",
              "    <tr>\n",
              "      <th>Floor_area</th>\n",
              "      <td>3.036506</td>\n",
              "    </tr>\n",
              "    <tr>\n",
              "      <th>City</th>\n",
              "      <td>0.000000</td>\n",
              "    </tr>\n",
              "    <tr>\n",
              "      <th>Price_in_taka</th>\n",
              "      <td>0.000000</td>\n",
              "    </tr>\n",
              "    <tr>\n",
              "      <th>Location</th>\n",
              "      <td>0.204708</td>\n",
              "    </tr>\n",
              "  </tbody>\n",
              "</table>\n",
              "</div><br><label><b>dtype:</b> float64</label>"
            ]
          },
          "metadata": {},
          "execution_count": 295
        }
      ]
    },
    {
      "cell_type": "code",
      "source": [
        "df['Price_in_taka'] = df['Price_in_taka'].replace('[৳,]', '', regex=True)"
      ],
      "metadata": {
        "id": "CLGtMeil4I28"
      },
      "execution_count": null,
      "outputs": []
    },
    {
      "cell_type": "code",
      "source": [
        "df['Price_in_taka'].sample()"
      ],
      "metadata": {
        "id": "jzhIbxJn4IBR",
        "colab": {
          "base_uri": "https://localhost:8080/",
          "height": 115
        },
        "outputId": "54a769a7-b742-4b88-d66b-e82bc5f081c6"
      },
      "execution_count": null,
      "outputs": [
        {
          "output_type": "execute_result",
          "data": {
            "text/plain": [
              "2907    6680000\n",
              "Name: Price_in_taka, dtype: object"
            ],
            "text/html": [
              "<div>\n",
              "<style scoped>\n",
              "    .dataframe tbody tr th:only-of-type {\n",
              "        vertical-align: middle;\n",
              "    }\n",
              "\n",
              "    .dataframe tbody tr th {\n",
              "        vertical-align: top;\n",
              "    }\n",
              "\n",
              "    .dataframe thead th {\n",
              "        text-align: right;\n",
              "    }\n",
              "</style>\n",
              "<table border=\"1\" class=\"dataframe\">\n",
              "  <thead>\n",
              "    <tr style=\"text-align: right;\">\n",
              "      <th></th>\n",
              "      <th>Price_in_taka</th>\n",
              "    </tr>\n",
              "  </thead>\n",
              "  <tbody>\n",
              "    <tr>\n",
              "      <th>2907</th>\n",
              "      <td>6680000</td>\n",
              "    </tr>\n",
              "  </tbody>\n",
              "</table>\n",
              "</div><br><label><b>dtype:</b> object</label>"
            ]
          },
          "metadata": {},
          "execution_count": 297
        }
      ]
    },
    {
      "cell_type": "code",
      "source": [
        "df[df['Floor_no'].str.contains('th ', case=False, na=False)]"
      ],
      "metadata": {
        "colab": {
          "base_uri": "https://localhost:8080/",
          "height": 187
        },
        "id": "HL0a47AX0E4N",
        "outputId": "ab801802-d801-4d2d-9df7-488a8451f768"
      },
      "execution_count": null,
      "outputs": [
        {
          "output_type": "execute_result",
          "data": {
            "text/plain": [
              "      Bedrooms  Bathrooms             Floor_no  Floor_area        City  \\\n",
              "2674       3.0        3.0  4th to 8th Backside      1250.0  chattogram   \n",
              "\n",
              "     Price_in_taka                                    Location  \n",
              "2674       3800000  Dakshin Kattali, 11 No. South Kattali Ward  "
            ],
            "text/html": [
              "\n",
              "  <div id=\"df-d97ddd83-8908-49f7-88aa-e044d041a8db\" class=\"colab-df-container\">\n",
              "    <div>\n",
              "<style scoped>\n",
              "    .dataframe tbody tr th:only-of-type {\n",
              "        vertical-align: middle;\n",
              "    }\n",
              "\n",
              "    .dataframe tbody tr th {\n",
              "        vertical-align: top;\n",
              "    }\n",
              "\n",
              "    .dataframe thead th {\n",
              "        text-align: right;\n",
              "    }\n",
              "</style>\n",
              "<table border=\"1\" class=\"dataframe\">\n",
              "  <thead>\n",
              "    <tr style=\"text-align: right;\">\n",
              "      <th></th>\n",
              "      <th>Bedrooms</th>\n",
              "      <th>Bathrooms</th>\n",
              "      <th>Floor_no</th>\n",
              "      <th>Floor_area</th>\n",
              "      <th>City</th>\n",
              "      <th>Price_in_taka</th>\n",
              "      <th>Location</th>\n",
              "    </tr>\n",
              "  </thead>\n",
              "  <tbody>\n",
              "    <tr>\n",
              "      <th>2674</th>\n",
              "      <td>3.0</td>\n",
              "      <td>3.0</td>\n",
              "      <td>4th to 8th Backside</td>\n",
              "      <td>1250.0</td>\n",
              "      <td>chattogram</td>\n",
              "      <td>3800000</td>\n",
              "      <td>Dakshin Kattali, 11 No. South Kattali Ward</td>\n",
              "    </tr>\n",
              "  </tbody>\n",
              "</table>\n",
              "</div>\n",
              "    <div class=\"colab-df-buttons\">\n",
              "\n",
              "  <div class=\"colab-df-container\">\n",
              "    <button class=\"colab-df-convert\" onclick=\"convertToInteractive('df-d97ddd83-8908-49f7-88aa-e044d041a8db')\"\n",
              "            title=\"Convert this dataframe to an interactive table.\"\n",
              "            style=\"display:none;\">\n",
              "\n",
              "  <svg xmlns=\"http://www.w3.org/2000/svg\" height=\"24px\" viewBox=\"0 -960 960 960\">\n",
              "    <path d=\"M120-120v-720h720v720H120Zm60-500h600v-160H180v160Zm220 220h160v-160H400v160Zm0 220h160v-160H400v160ZM180-400h160v-160H180v160Zm440 0h160v-160H620v160ZM180-180h160v-160H180v160Zm440 0h160v-160H620v160Z\"/>\n",
              "  </svg>\n",
              "    </button>\n",
              "\n",
              "  <style>\n",
              "    .colab-df-container {\n",
              "      display:flex;\n",
              "      gap: 12px;\n",
              "    }\n",
              "\n",
              "    .colab-df-convert {\n",
              "      background-color: #E8F0FE;\n",
              "      border: none;\n",
              "      border-radius: 50%;\n",
              "      cursor: pointer;\n",
              "      display: none;\n",
              "      fill: #1967D2;\n",
              "      height: 32px;\n",
              "      padding: 0 0 0 0;\n",
              "      width: 32px;\n",
              "    }\n",
              "\n",
              "    .colab-df-convert:hover {\n",
              "      background-color: #E2EBFA;\n",
              "      box-shadow: 0px 1px 2px rgba(60, 64, 67, 0.3), 0px 1px 3px 1px rgba(60, 64, 67, 0.15);\n",
              "      fill: #174EA6;\n",
              "    }\n",
              "\n",
              "    .colab-df-buttons div {\n",
              "      margin-bottom: 4px;\n",
              "    }\n",
              "\n",
              "    [theme=dark] .colab-df-convert {\n",
              "      background-color: #3B4455;\n",
              "      fill: #D2E3FC;\n",
              "    }\n",
              "\n",
              "    [theme=dark] .colab-df-convert:hover {\n",
              "      background-color: #434B5C;\n",
              "      box-shadow: 0px 1px 3px 1px rgba(0, 0, 0, 0.15);\n",
              "      filter: drop-shadow(0px 1px 2px rgba(0, 0, 0, 0.3));\n",
              "      fill: #FFFFFF;\n",
              "    }\n",
              "  </style>\n",
              "\n",
              "    <script>\n",
              "      const buttonEl =\n",
              "        document.querySelector('#df-d97ddd83-8908-49f7-88aa-e044d041a8db button.colab-df-convert');\n",
              "      buttonEl.style.display =\n",
              "        google.colab.kernel.accessAllowed ? 'block' : 'none';\n",
              "\n",
              "      async function convertToInteractive(key) {\n",
              "        const element = document.querySelector('#df-d97ddd83-8908-49f7-88aa-e044d041a8db');\n",
              "        const dataTable =\n",
              "          await google.colab.kernel.invokeFunction('convertToInteractive',\n",
              "                                                    [key], {});\n",
              "        if (!dataTable) return;\n",
              "\n",
              "        const docLinkHtml = 'Like what you see? Visit the ' +\n",
              "          '<a target=\"_blank\" href=https://colab.research.google.com/notebooks/data_table.ipynb>data table notebook</a>'\n",
              "          + ' to learn more about interactive tables.';\n",
              "        element.innerHTML = '';\n",
              "        dataTable['output_type'] = 'display_data';\n",
              "        await google.colab.output.renderOutput(dataTable, element);\n",
              "        const docLink = document.createElement('div');\n",
              "        docLink.innerHTML = docLinkHtml;\n",
              "        element.appendChild(docLink);\n",
              "      }\n",
              "    </script>\n",
              "  </div>\n",
              "\n",
              "\n",
              "    </div>\n",
              "  </div>\n"
            ],
            "application/vnd.google.colaboratory.intrinsic+json": {
              "type": "dataframe",
              "summary": "{\n  \"name\": \"df[df['Floor_no']\",\n  \"rows\": 1,\n  \"fields\": [\n    {\n      \"column\": \"Bedrooms\",\n      \"properties\": {\n        \"dtype\": \"number\",\n        \"std\": null,\n        \"min\": 3.0,\n        \"max\": 3.0,\n        \"num_unique_values\": 1,\n        \"samples\": [\n          3.0\n        ],\n        \"semantic_type\": \"\",\n        \"description\": \"\"\n      }\n    },\n    {\n      \"column\": \"Bathrooms\",\n      \"properties\": {\n        \"dtype\": \"number\",\n        \"std\": null,\n        \"min\": 3.0,\n        \"max\": 3.0,\n        \"num_unique_values\": 1,\n        \"samples\": [\n          3.0\n        ],\n        \"semantic_type\": \"\",\n        \"description\": \"\"\n      }\n    },\n    {\n      \"column\": \"Floor_no\",\n      \"properties\": {\n        \"dtype\": \"string\",\n        \"num_unique_values\": 1,\n        \"samples\": [\n          \"4th to 8th Backside\"\n        ],\n        \"semantic_type\": \"\",\n        \"description\": \"\"\n      }\n    },\n    {\n      \"column\": \"Floor_area\",\n      \"properties\": {\n        \"dtype\": \"number\",\n        \"std\": null,\n        \"min\": 1250.0,\n        \"max\": 1250.0,\n        \"num_unique_values\": 1,\n        \"samples\": [\n          1250.0\n        ],\n        \"semantic_type\": \"\",\n        \"description\": \"\"\n      }\n    },\n    {\n      \"column\": \"City\",\n      \"properties\": {\n        \"dtype\": \"string\",\n        \"num_unique_values\": 1,\n        \"samples\": [\n          \"chattogram\"\n        ],\n        \"semantic_type\": \"\",\n        \"description\": \"\"\n      }\n    },\n    {\n      \"column\": \"Price_in_taka\",\n      \"properties\": {\n        \"dtype\": \"string\",\n        \"num_unique_values\": 1,\n        \"samples\": [\n          \"3800000\"\n        ],\n        \"semantic_type\": \"\",\n        \"description\": \"\"\n      }\n    },\n    {\n      \"column\": \"Location\",\n      \"properties\": {\n        \"dtype\": \"string\",\n        \"num_unique_values\": 1,\n        \"samples\": [\n          \"Dakshin Kattali, 11 No. South Kattali Ward\"\n        ],\n        \"semantic_type\": \"\",\n        \"description\": \"\"\n      }\n    }\n  ]\n}"
            }
          },
          "metadata": {},
          "execution_count": 298
        }
      ]
    },
    {
      "cell_type": "code",
      "source": [
        "df['Floor_no'] = df['Floor_no'].replace('[^0-9.]', '', regex=True) #replace any character that is not a digit (0-9) or a decimal point (.) with an empty string.\n",
        "df['Floor_no'] = pd.to_numeric(df['Floor_no'], errors='coerce')"
      ],
      "metadata": {
        "id": "lHQbhIq91dH2"
      },
      "execution_count": null,
      "outputs": []
    },
    {
      "cell_type": "code",
      "source": [
        "df['Price_in_taka'] = df['Price_in_taka'].astype(int)\n",
        "df['City'] = df['City'].astype(str)\n",
        "df['Floor_no'] = df['Floor_no'].astype(np.float64)"
      ],
      "metadata": {
        "id": "R9GP_CbdeL-P"
      },
      "execution_count": null,
      "outputs": []
    },
    {
      "cell_type": "code",
      "source": [
        "# mean_Bedrooms = df['Bedrooms'].mean()\n",
        "# mean_Bathrooms = df['Bathrooms'].mean()\n",
        "# mean_Floor_no = df['Floor_no'].mean()\n",
        "# mean_Floor_area = df['Floor_area'].mean()"
      ],
      "metadata": {
        "id": "lz-DFO9AuL33"
      },
      "execution_count": null,
      "outputs": []
    },
    {
      "cell_type": "code",
      "source": [
        "# median_Bedrooms = df['Bedrooms'].median()\n",
        "# median_Bathrooms = df['Bathrooms'].median()\n",
        "# median_Floor_no = df['Floor_no'].median()\n",
        "# median_Floor_area = df['Floor_area'].mean()"
      ],
      "metadata": {
        "id": "S-k_R91R74fC"
      },
      "execution_count": null,
      "outputs": []
    },
    {
      "cell_type": "code",
      "source": [
        "# df['Bedrooms_mean'] = df['Bedrooms'].fillna(mean_Bedrooms)\n",
        "# df['Bathrooms_mean'] = df['Bathrooms'].fillna(mean_Bathrooms)\n",
        "# df['Floor_no_mean'] = df['Floor_no'].fillna(mean_Floor_no)\n",
        "# df['Floor_area_mean'] = df['Floor_area'].fillna(mean_Floor_area)"
      ],
      "metadata": {
        "id": "b23RAbYquVPv"
      },
      "execution_count": null,
      "outputs": []
    },
    {
      "cell_type": "code",
      "source": [
        "# df['Bedrooms_median'] = df['Bedrooms'].fillna(median_Bedrooms)\n",
        "# df['Bathrooms_median'] = df['Bathrooms'].fillna(median_Bathrooms)\n",
        "# df['Floor_no_median'] = df['Floor_no'].fillna(median_Floor_no)\n",
        "# df['Floor_area_median'] = df['Floor_area'].fillna(median_Floor_area)"
      ],
      "metadata": {
        "id": "j18L5Hfo71n3"
      },
      "execution_count": null,
      "outputs": []
    },
    {
      "cell_type": "code",
      "source": [
        "# # kernel density estimate (KDE) plot: visualize the distribution of data in a dataset\n",
        "\n",
        "# plt.figure(figsize=(10, 8))\n",
        "\n",
        "# # Create subplots(ROW,COL,INDEX)\n",
        "# plt.subplot(2, 2, 1)\n",
        "# sns.kdeplot(df['Bedrooms'], label='Bedrooms')\n",
        "# sns.kdeplot(df['Bedrooms_median'], label='Bedrooms_median')\n",
        "# sns.kdeplot(df['Bedrooms_mean'], label='Bedrooms_mean')\n",
        "# plt.legend()\n",
        "\n",
        "# plt.subplot(2, 2, 2)\n",
        "# sns.kdeplot(df['Bathrooms'], label='Bathrooms')\n",
        "# sns.kdeplot(df['Bathrooms_median'], label='Bathrooms_median')\n",
        "# sns.kdeplot(df['Bathrooms_mean'], label='Bathrooms_mean')\n",
        "# plt.legend()\n",
        "\n",
        "# plt.subplot(2, 2, 3)\n",
        "# sns.kdeplot(df['Floor_no'], label='Floor_no')\n",
        "# sns.kdeplot(df['Floor_no_median'], label='Floor_no_median')\n",
        "# sns.kdeplot(df['Floor_no_mean'], label='Floor_no_mean')\n",
        "# plt.legend()\n",
        "\n",
        "# plt.subplot(2, 2, 4)\n",
        "# sns.kdeplot(df['Floor_area'], label='Floor_area')\n",
        "# sns.kdeplot(df['Floor_area_median'], label='Floor_area_median')\n",
        "# sns.kdeplot(df['Floor_area_mean'], label='Floor_area_mean')\n",
        "# plt.legend()\n",
        "\n",
        "\n",
        "# plt.tight_layout()\n",
        "# plt.show()"
      ],
      "metadata": {
        "id": "iQuQg8e7LBM_"
      },
      "execution_count": null,
      "outputs": []
    },
    {
      "cell_type": "code",
      "source": [],
      "metadata": {
        "id": "4EmwMjJ0W-G0"
      },
      "execution_count": null,
      "outputs": []
    },
    {
      "cell_type": "code",
      "execution_count": null,
      "metadata": {
        "id": "RqJUqi3BWPRt"
      },
      "outputs": [],
      "source": [
        "# print('Original variable variance: ', df['Bedrooms'].var())\n",
        "# print('Variance after median imputation: ', df['Bedrooms_median'].var())\n",
        "# print('Variance after mean imputation: ', df['Bedrooms_mean'].var())\n",
        "# print(\"\")\n",
        "\n",
        "# print('Original variable variance: ', df['Bathrooms'].var())\n",
        "# print('Variance after median imputation: ',df['Bathrooms_median'].var())\n",
        "# print('Fare Variance after mean imputation: ', df['Bathrooms_mean'].var())\n",
        "# print(\"\")\n",
        "\n",
        "# print('Original variable variance: ', df['Floor_no'].var())\n",
        "# print('Variance after median imputation: ', df['Floor_no_median'].var())\n",
        "# print('Variance after mean imputation: ', df['Floor_no_mean'].var())\n",
        "# print(\"\")\n",
        "\n",
        "# print('Original variable variance: ', df['Floor_area'].var())\n",
        "# print('Variance after median imputation: ',df['Floor_area_median'].var())\n",
        "# print('Variance after mean imputation: ', df['Floor_area_mean'].var())\n",
        "# print(\"\")\n"
      ]
    },
    {
      "cell_type": "code",
      "source": [
        "df.dropna(subset=['Location'], inplace=True)"
      ],
      "metadata": {
        "id": "dAaGvvAWclV4"
      },
      "execution_count": null,
      "outputs": []
    },
    {
      "cell_type": "code",
      "source": [
        "from sklearn.impute import SimpleImputer\n",
        "\n",
        "imputer_median = SimpleImputer(strategy='median')\n",
        "imputer_mean = SimpleImputer(strategy='mean')\n"
      ],
      "metadata": {
        "id": "aHjuF8-6cklu"
      },
      "execution_count": null,
      "outputs": []
    },
    {
      "cell_type": "code",
      "source": [
        "df['Bedrooms'] = imputer_median.fit_transform(df[['Bedrooms']])\n",
        "df['Bathrooms'] = imputer_median.fit_transform(df[['Bathrooms']])\n",
        "df['Floor_no'] = imputer_median.fit_transform(df[['Floor_no']])\n",
        "df['Floor_area'] = imputer_median.fit_transform(df[['Floor_area']])"
      ],
      "metadata": {
        "id": "vGEw6yH5h_P-"
      },
      "execution_count": null,
      "outputs": []
    },
    {
      "cell_type": "code",
      "source": [
        "df.isnull().sum()"
      ],
      "metadata": {
        "colab": {
          "base_uri": "https://localhost:8080/",
          "height": 303
        },
        "id": "_JNVzbeUlsfO",
        "outputId": "54c76b86-800e-4ebd-96be-f32b9154d1ae"
      },
      "execution_count": null,
      "outputs": [
        {
          "output_type": "execute_result",
          "data": {
            "text/plain": [
              "Bedrooms         0\n",
              "Bathrooms        0\n",
              "Floor_no         0\n",
              "Floor_area       0\n",
              "City             0\n",
              "Price_in_taka    0\n",
              "Location         0\n",
              "dtype: int64"
            ],
            "text/html": [
              "<div>\n",
              "<style scoped>\n",
              "    .dataframe tbody tr th:only-of-type {\n",
              "        vertical-align: middle;\n",
              "    }\n",
              "\n",
              "    .dataframe tbody tr th {\n",
              "        vertical-align: top;\n",
              "    }\n",
              "\n",
              "    .dataframe thead th {\n",
              "        text-align: right;\n",
              "    }\n",
              "</style>\n",
              "<table border=\"1\" class=\"dataframe\">\n",
              "  <thead>\n",
              "    <tr style=\"text-align: right;\">\n",
              "      <th></th>\n",
              "      <th>0</th>\n",
              "    </tr>\n",
              "  </thead>\n",
              "  <tbody>\n",
              "    <tr>\n",
              "      <th>Bedrooms</th>\n",
              "      <td>0</td>\n",
              "    </tr>\n",
              "    <tr>\n",
              "      <th>Bathrooms</th>\n",
              "      <td>0</td>\n",
              "    </tr>\n",
              "    <tr>\n",
              "      <th>Floor_no</th>\n",
              "      <td>0</td>\n",
              "    </tr>\n",
              "    <tr>\n",
              "      <th>Floor_area</th>\n",
              "      <td>0</td>\n",
              "    </tr>\n",
              "    <tr>\n",
              "      <th>City</th>\n",
              "      <td>0</td>\n",
              "    </tr>\n",
              "    <tr>\n",
              "      <th>Price_in_taka</th>\n",
              "      <td>0</td>\n",
              "    </tr>\n",
              "    <tr>\n",
              "      <th>Location</th>\n",
              "      <td>0</td>\n",
              "    </tr>\n",
              "  </tbody>\n",
              "</table>\n",
              "</div><br><label><b>dtype:</b> int64</label>"
            ]
          },
          "metadata": {},
          "execution_count": 310
        }
      ]
    },
    {
      "cell_type": "markdown",
      "source": [
        "## 🔍 Observations & Approach:\n",
        "- Tile and Occupancy status are no use --> drop column✅\n",
        "- NaN is present in almost every features,implies to missing values, there are 800+ (28% of total) missing values in some features,so we can not drop them --> Impute\n",
        "- most of the features are in objects --> convert to num\n",
        "- Bedroom,bathroom,floor_area are in float type,not possible --> convert to integer (first need to remove NAN)\n",
        "- price column has special character ৳ & , --> need to replace✅\n",
        "\n"
      ],
      "metadata": {
        "id": "rssLtHTlIaEx"
      }
    },
    {
      "cell_type": "code",
      "source": [],
      "metadata": {
        "id": "dIMrR2C4wzd6"
      },
      "execution_count": null,
      "outputs": []
    }
  ]
}